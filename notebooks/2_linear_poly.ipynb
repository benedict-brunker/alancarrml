{
 "cells": [
  {
   "cell_type": "markdown",
   "id": "364f3c30",
   "metadata": {},
   "source": [
    "# Exercise 3: Polynomial Regression"
   ]
  },
  {
   "cell_type": "markdown",
   "id": "7d5476f6",
   "metadata": {},
   "source": [
    "## 1. Load the dataset"
   ]
  },
  {
   "cell_type": "code",
   "execution_count": 1,
   "id": "74c78aab",
   "metadata": {},
   "outputs": [],
   "source": [
    "%load_ext autoreload \n",
    "%autoreload 2"
   ]
  },
  {
   "cell_type": "code",
   "execution_count": 2,
   "id": "6bc1735e",
   "metadata": {},
   "outputs": [],
   "source": [
    "import pandas as pd \n",
    "import numpy as np \n",
    "from joblib import dump "
   ]
  },
  {
   "cell_type": "code",
   "execution_count": 3,
   "id": "3699cef2",
   "metadata": {},
   "outputs": [],
   "source": [
    "from alancarrml.data.sets import load_sets"
   ]
  },
  {
   "cell_type": "markdown",
   "id": "7043917a",
   "metadata": {},
   "source": [
    "### [2.3] Load the sets from data/processed"
   ]
  },
  {
   "cell_type": "code",
   "execution_count": 10,
   "id": "7bfeea2e",
   "metadata": {},
   "outputs": [
    {
     "data": {
      "text/plain": [
       "['x_val.csv',\n",
       " 'x_test.csv',\n",
       " 'y_test.csv',\n",
       " 'y_train.csv',\n",
       " 'y_val.csv',\n",
       " 'x_train.csv']"
      ]
     },
     "execution_count": 10,
     "metadata": {},
     "output_type": "execute_result"
    }
   ],
   "source": [
    "import os \n",
    "\n",
    "project_dir = os.path.dirname(os.getcwd()) \n",
    "data_dir = os.path.join(project_dir, 'data') \n",
    "datasets_dir = os.path.join(data_dir, 'processed') \n",
    "os.listdir(datasets_dir)"
   ]
  },
  {
   "cell_type": "code",
   "execution_count": 17,
   "id": "f9b5b604",
   "metadata": {},
   "outputs": [
    {
     "data": {
      "text/plain": [
       "'/home/bened/DataScience/AMLA/labs/alancarrml-project/data/processed'"
      ]
     },
     "execution_count": 17,
     "metadata": {},
     "output_type": "execute_result"
    }
   ],
   "source": [
    "datasets_dir"
   ]
  },
  {
   "cell_type": "code",
   "execution_count": 18,
   "id": "c34d0eeb",
   "metadata": {},
   "outputs": [
    {
     "data": {
      "text/plain": [
       "True"
      ]
     },
     "execution_count": 18,
     "metadata": {},
     "output_type": "execute_result"
    }
   ],
   "source": [
    "os.path.exists(os.path.join(datasets_dir, \"x_train.csv\"))"
   ]
  },
  {
   "cell_type": "code",
   "execution_count": 20,
   "id": "30bdf2c3",
   "metadata": {},
   "outputs": [
    {
     "name": "stdout",
     "output_type": "stream",
     "text": [
      "<class 'pandas.core.frame.DataFrame'>\n"
     ]
    }
   ],
   "source": [
    "X_train = pd.read_csv(os.path.join(datasets_dir, \"x_train.csv\")) \n",
    "print(type(X_train))"
   ]
  },
  {
   "cell_type": "code",
   "execution_count": 21,
   "id": "aca6bfb7",
   "metadata": {},
   "outputs": [],
   "source": [
    "from alancarrml.data.sets import load_sets \n",
    "\n",
    "datasets = load_sets() "
   ]
  },
  {
   "cell_type": "code",
   "execution_count": 22,
   "id": "74bc2624",
   "metadata": {},
   "outputs": [
    {
     "data": {
      "text/plain": [
       "dict_keys(['x_val', 'x_test', 'y_test', 'y_train', 'y_val', 'x_train'])"
      ]
     },
     "execution_count": 22,
     "metadata": {},
     "output_type": "execute_result"
    }
   ],
   "source": [
    "datasets.keys()"
   ]
  },
  {
   "cell_type": "code",
   "execution_count": 23,
   "id": "bdd4cc7a",
   "metadata": {},
   "outputs": [],
   "source": [
    "X_train = datasets.get('x_train')   \n",
    "X_val = datasets.get('x_val') \n",
    "X_test = datasets.get('x_test')  \n",
    "\n",
    "y_train = datasets.get('y_train') \n",
    "y_val = datasets.get('y_val') \n",
    "y_test = datasets.get('y_test')"
   ]
  },
  {
   "cell_type": "code",
   "execution_count": 34,
   "id": "e5248608",
   "metadata": {},
   "outputs": [],
   "source": [
    "def verify_datasets(dataset_names=['X_train', 'X_val', 'X_test', 'y_train', 'y_val', 'y_test']): \n",
    "    \"\"\"\n",
    "    Prints type and shape of all datasets if they exist as global variables. \n",
    "\n",
    "    Parameters\n",
    "    ______________________________________________________________________________________________\n",
    "    dataset_names: list[str] \n",
    "        Names of dataset variables. Defaults to standard naming conventions. \n",
    "\n",
    "    Returns\n",
    "    ______________________________________________________________________________________________\n",
    "    None \n",
    "    \"\"\"\n",
    "    global_vars = globals() \n",
    "\n",
    "    if 'X_train' in global_vars: \n",
    "        type_string, dim_string = verify_dataset(global_vars, 'X_train')\n",
    "        print_info('X_train', type_string, dim_string)\n",
    "        \n",
    "    elif 'x_train' in global_vars:\n",
    "        type_string, dim_string = verify_dataset(global_vars, 'x_train')\n",
    "        print_info('x_train', type_string, dim_string) \n",
    "\n",
    "    if 'X_val' in global_vars:\n",
    "        type_string, dim_string = verify_dataset(global_vars, 'X_val')\n",
    "        print_info('X_val', type_string, dim_string) \n",
    "\n",
    "    elif 'x_val' in global_vars:\n",
    "        type_string, dim_string = verify_dataset(global_vars, 'x_val')\n",
    "        print_info('x_val', type_string, dim_string)\n",
    "\n",
    "    if 'X_test' in global_vars: \n",
    "        type_string, dim_string = verify_dataset(global_vars, 'X_test')\n",
    "        print_info('X_test', type_string, dim_string) \n",
    "\n",
    "    elif 'x_test' in global_vars: \n",
    "        type_string, dim_string = verify_dataset(global_vars, 'x_test')\n",
    "        print_info('x_test', type_string, dim_string)\n",
    "    \n",
    "    if 'y_train' in global_vars: \n",
    "        type_string, dim_string = verify_dataset(global_vars, 'y_train')\n",
    "        print_info('y_train', type_string, dim_string)\n",
    "    \n",
    "    if 'y_val' in global_vars: \n",
    "        type_string, dim_string = verify_dataset(global_vars, 'y_val')\n",
    "        print_info('y_val', type_string, dim_string)\n",
    "    \n",
    "    if 'y_test' in global_vars: \n",
    "        type_string, dim_string = verify_dataset(global_vars, 'y_test')\n",
    "        print_info('y_test', type_string, dim_string) \n",
    "\n",
    "def verify_dataset(global_vars, dataset_name): \n",
    "    if dataset_name in global_vars: \n",
    "        dataset = global_vars.get(dataset_name) \n",
    "        try: \n",
    "            return f\"Type: {type(dataset)}\", f\"Dimensions: {dataset.shape}\"\n",
    "        except AttributeError: \n",
    "            return f\"Type: {type(dataset)}\", f\"Length: {len(dataset)}\"\n",
    "\n",
    "def print_info(dataset_name, type_string, dim_string): \n",
    "    print(f\"{dataset_name}:\") \n",
    "    print(f\"     {type_string}\") \n",
    "    print(f\"     {dim_string} \\n\") "
   ]
  },
  {
   "cell_type": "code",
   "execution_count": 35,
   "id": "1319c36a",
   "metadata": {},
   "outputs": [
    {
     "name": "stdout",
     "output_type": "stream",
     "text": [
      "X_train:\n",
      "     Type: <class 'pandas.core.frame.DataFrame'>\n",
      "     Dimensions: (30000, 9) \n",
      "\n",
      "X_val:\n",
      "     Type: <class 'pandas.core.frame.DataFrame'>\n",
      "     Dimensions: (10000, 9) \n",
      "\n",
      "X_test:\n",
      "     Type: <class 'pandas.core.frame.DataFrame'>\n",
      "     Dimensions: (10000, 9) \n",
      "\n",
      "y_train:\n",
      "     Type: <class 'pandas.core.frame.DataFrame'>\n",
      "     Dimensions: (30000, 2) \n",
      "\n",
      "y_val:\n",
      "     Type: <class 'pandas.core.frame.DataFrame'>\n",
      "     Dimensions: (10000, 2) \n",
      "\n",
      "y_test:\n",
      "     Type: <class 'pandas.core.frame.DataFrame'>\n",
      "     Dimensions: (10000, 2) \n",
      "\n"
     ]
    }
   ],
   "source": [
    "verify_datasets()"
   ]
  },
  {
   "cell_type": "markdown",
   "id": "2b3db5e0",
   "metadata": {},
   "source": [
    "## 3. Apply Polynomial Transformation"
   ]
  },
  {
   "cell_type": "code",
   "execution_count": 36,
   "id": "be454a53",
   "metadata": {},
   "outputs": [],
   "source": [
    "from sklearn.preprocessing import PolynomialFeatures"
   ]
  },
  {
   "cell_type": "code",
   "execution_count": 37,
   "id": "071dbf8c",
   "metadata": {},
   "outputs": [],
   "source": [
    "squarer = PolynomialFeatures(2)"
   ]
  },
  {
   "cell_type": "code",
   "execution_count": 38,
   "id": "d443ee2b",
   "metadata": {},
   "outputs": [],
   "source": [
    "squarer.fit(X_train) \n",
    "X_train_squared = squarer.transform(X_train)"
   ]
  },
  {
   "cell_type": "code",
   "execution_count": 40,
   "id": "eb8925bf",
   "metadata": {},
   "outputs": [
    {
     "name": "stdout",
     "output_type": "stream",
     "text": [
      "(30000, 9)\n",
      "(30000, 55)\n"
     ]
    }
   ],
   "source": [
    "print(X_train.shape) \n",
    "print(X_train_squared.shape)"
   ]
  },
  {
   "cell_type": "code",
   "execution_count": 41,
   "id": "5951871b",
   "metadata": {},
   "outputs": [],
   "source": [
    "X_val_squared = squarer.transform(X_val) \n",
    "X_test_squared = squarer.transform(X_test)"
   ]
  },
  {
   "cell_type": "code",
   "execution_count": 42,
   "id": "3bd99837",
   "metadata": {},
   "outputs": [
    {
     "name": "stdout",
     "output_type": "stream",
     "text": [
      "(10000, 55)\n",
      "(10000, 55)\n"
     ]
    }
   ],
   "source": [
    "print(X_val_squared.shape) \n",
    "print(X_test_squared.shape)"
   ]
  },
  {
   "cell_type": "markdown",
   "id": "6beee48d",
   "metadata": {},
   "source": [
    "## 4. Train Linear Regression Model"
   ]
  },
  {
   "cell_type": "code",
   "execution_count": 43,
   "id": "569431d1",
   "metadata": {},
   "outputs": [],
   "source": [
    "from sklearn.linear_model import LinearRegression "
   ]
  },
  {
   "cell_type": "code",
   "execution_count": 44,
   "id": "7aac2ffc",
   "metadata": {},
   "outputs": [],
   "source": [
    "reg = LinearRegression() "
   ]
  },
  {
   "cell_type": "code",
   "execution_count": 45,
   "id": "c1ad80d1",
   "metadata": {},
   "outputs": [
    {
     "data": {
      "text/html": [
       "<style>#sk-container-id-1 {\n",
       "  /* Definition of color scheme common for light and dark mode */\n",
       "  --sklearn-color-text: black;\n",
       "  --sklearn-color-line: gray;\n",
       "  /* Definition of color scheme for unfitted estimators */\n",
       "  --sklearn-color-unfitted-level-0: #fff5e6;\n",
       "  --sklearn-color-unfitted-level-1: #f6e4d2;\n",
       "  --sklearn-color-unfitted-level-2: #ffe0b3;\n",
       "  --sklearn-color-unfitted-level-3: chocolate;\n",
       "  /* Definition of color scheme for fitted estimators */\n",
       "  --sklearn-color-fitted-level-0: #f0f8ff;\n",
       "  --sklearn-color-fitted-level-1: #d4ebff;\n",
       "  --sklearn-color-fitted-level-2: #b3dbfd;\n",
       "  --sklearn-color-fitted-level-3: cornflowerblue;\n",
       "\n",
       "  /* Specific color for light theme */\n",
       "  --sklearn-color-text-on-default-background: var(--sg-text-color, var(--theme-code-foreground, var(--jp-content-font-color1, black)));\n",
       "  --sklearn-color-background: var(--sg-background-color, var(--theme-background, var(--jp-layout-color0, white)));\n",
       "  --sklearn-color-border-box: var(--sg-text-color, var(--theme-code-foreground, var(--jp-content-font-color1, black)));\n",
       "  --sklearn-color-icon: #696969;\n",
       "\n",
       "  @media (prefers-color-scheme: dark) {\n",
       "    /* Redefinition of color scheme for dark theme */\n",
       "    --sklearn-color-text-on-default-background: var(--sg-text-color, var(--theme-code-foreground, var(--jp-content-font-color1, white)));\n",
       "    --sklearn-color-background: var(--sg-background-color, var(--theme-background, var(--jp-layout-color0, #111)));\n",
       "    --sklearn-color-border-box: var(--sg-text-color, var(--theme-code-foreground, var(--jp-content-font-color1, white)));\n",
       "    --sklearn-color-icon: #878787;\n",
       "  }\n",
       "}\n",
       "\n",
       "#sk-container-id-1 {\n",
       "  color: var(--sklearn-color-text);\n",
       "}\n",
       "\n",
       "#sk-container-id-1 pre {\n",
       "  padding: 0;\n",
       "}\n",
       "\n",
       "#sk-container-id-1 input.sk-hidden--visually {\n",
       "  border: 0;\n",
       "  clip: rect(1px 1px 1px 1px);\n",
       "  clip: rect(1px, 1px, 1px, 1px);\n",
       "  height: 1px;\n",
       "  margin: -1px;\n",
       "  overflow: hidden;\n",
       "  padding: 0;\n",
       "  position: absolute;\n",
       "  width: 1px;\n",
       "}\n",
       "\n",
       "#sk-container-id-1 div.sk-dashed-wrapped {\n",
       "  border: 1px dashed var(--sklearn-color-line);\n",
       "  margin: 0 0.4em 0.5em 0.4em;\n",
       "  box-sizing: border-box;\n",
       "  padding-bottom: 0.4em;\n",
       "  background-color: var(--sklearn-color-background);\n",
       "}\n",
       "\n",
       "#sk-container-id-1 div.sk-container {\n",
       "  /* jupyter's `normalize.less` sets `[hidden] { display: none; }`\n",
       "     but bootstrap.min.css set `[hidden] { display: none !important; }`\n",
       "     so we also need the `!important` here to be able to override the\n",
       "     default hidden behavior on the sphinx rendered scikit-learn.org.\n",
       "     See: https://github.com/scikit-learn/scikit-learn/issues/21755 */\n",
       "  display: inline-block !important;\n",
       "  position: relative;\n",
       "}\n",
       "\n",
       "#sk-container-id-1 div.sk-text-repr-fallback {\n",
       "  display: none;\n",
       "}\n",
       "\n",
       "div.sk-parallel-item,\n",
       "div.sk-serial,\n",
       "div.sk-item {\n",
       "  /* draw centered vertical line to link estimators */\n",
       "  background-image: linear-gradient(var(--sklearn-color-text-on-default-background), var(--sklearn-color-text-on-default-background));\n",
       "  background-size: 2px 100%;\n",
       "  background-repeat: no-repeat;\n",
       "  background-position: center center;\n",
       "}\n",
       "\n",
       "/* Parallel-specific style estimator block */\n",
       "\n",
       "#sk-container-id-1 div.sk-parallel-item::after {\n",
       "  content: \"\";\n",
       "  width: 100%;\n",
       "  border-bottom: 2px solid var(--sklearn-color-text-on-default-background);\n",
       "  flex-grow: 1;\n",
       "}\n",
       "\n",
       "#sk-container-id-1 div.sk-parallel {\n",
       "  display: flex;\n",
       "  align-items: stretch;\n",
       "  justify-content: center;\n",
       "  background-color: var(--sklearn-color-background);\n",
       "  position: relative;\n",
       "}\n",
       "\n",
       "#sk-container-id-1 div.sk-parallel-item {\n",
       "  display: flex;\n",
       "  flex-direction: column;\n",
       "}\n",
       "\n",
       "#sk-container-id-1 div.sk-parallel-item:first-child::after {\n",
       "  align-self: flex-end;\n",
       "  width: 50%;\n",
       "}\n",
       "\n",
       "#sk-container-id-1 div.sk-parallel-item:last-child::after {\n",
       "  align-self: flex-start;\n",
       "  width: 50%;\n",
       "}\n",
       "\n",
       "#sk-container-id-1 div.sk-parallel-item:only-child::after {\n",
       "  width: 0;\n",
       "}\n",
       "\n",
       "/* Serial-specific style estimator block */\n",
       "\n",
       "#sk-container-id-1 div.sk-serial {\n",
       "  display: flex;\n",
       "  flex-direction: column;\n",
       "  align-items: center;\n",
       "  background-color: var(--sklearn-color-background);\n",
       "  padding-right: 1em;\n",
       "  padding-left: 1em;\n",
       "}\n",
       "\n",
       "\n",
       "/* Toggleable style: style used for estimator/Pipeline/ColumnTransformer box that is\n",
       "clickable and can be expanded/collapsed.\n",
       "- Pipeline and ColumnTransformer use this feature and define the default style\n",
       "- Estimators will overwrite some part of the style using the `sk-estimator` class\n",
       "*/\n",
       "\n",
       "/* Pipeline and ColumnTransformer style (default) */\n",
       "\n",
       "#sk-container-id-1 div.sk-toggleable {\n",
       "  /* Default theme specific background. It is overwritten whether we have a\n",
       "  specific estimator or a Pipeline/ColumnTransformer */\n",
       "  background-color: var(--sklearn-color-background);\n",
       "}\n",
       "\n",
       "/* Toggleable label */\n",
       "#sk-container-id-1 label.sk-toggleable__label {\n",
       "  cursor: pointer;\n",
       "  display: block;\n",
       "  width: 100%;\n",
       "  margin-bottom: 0;\n",
       "  padding: 0.5em;\n",
       "  box-sizing: border-box;\n",
       "  text-align: center;\n",
       "}\n",
       "\n",
       "#sk-container-id-1 label.sk-toggleable__label-arrow:before {\n",
       "  /* Arrow on the left of the label */\n",
       "  content: \"▸\";\n",
       "  float: left;\n",
       "  margin-right: 0.25em;\n",
       "  color: var(--sklearn-color-icon);\n",
       "}\n",
       "\n",
       "#sk-container-id-1 label.sk-toggleable__label-arrow:hover:before {\n",
       "  color: var(--sklearn-color-text);\n",
       "}\n",
       "\n",
       "/* Toggleable content - dropdown */\n",
       "\n",
       "#sk-container-id-1 div.sk-toggleable__content {\n",
       "  max-height: 0;\n",
       "  max-width: 0;\n",
       "  overflow: hidden;\n",
       "  text-align: left;\n",
       "  /* unfitted */\n",
       "  background-color: var(--sklearn-color-unfitted-level-0);\n",
       "}\n",
       "\n",
       "#sk-container-id-1 div.sk-toggleable__content.fitted {\n",
       "  /* fitted */\n",
       "  background-color: var(--sklearn-color-fitted-level-0);\n",
       "}\n",
       "\n",
       "#sk-container-id-1 div.sk-toggleable__content pre {\n",
       "  margin: 0.2em;\n",
       "  border-radius: 0.25em;\n",
       "  color: var(--sklearn-color-text);\n",
       "  /* unfitted */\n",
       "  background-color: var(--sklearn-color-unfitted-level-0);\n",
       "}\n",
       "\n",
       "#sk-container-id-1 div.sk-toggleable__content.fitted pre {\n",
       "  /* unfitted */\n",
       "  background-color: var(--sklearn-color-fitted-level-0);\n",
       "}\n",
       "\n",
       "#sk-container-id-1 input.sk-toggleable__control:checked~div.sk-toggleable__content {\n",
       "  /* Expand drop-down */\n",
       "  max-height: 200px;\n",
       "  max-width: 100%;\n",
       "  overflow: auto;\n",
       "}\n",
       "\n",
       "#sk-container-id-1 input.sk-toggleable__control:checked~label.sk-toggleable__label-arrow:before {\n",
       "  content: \"▾\";\n",
       "}\n",
       "\n",
       "/* Pipeline/ColumnTransformer-specific style */\n",
       "\n",
       "#sk-container-id-1 div.sk-label input.sk-toggleable__control:checked~label.sk-toggleable__label {\n",
       "  color: var(--sklearn-color-text);\n",
       "  background-color: var(--sklearn-color-unfitted-level-2);\n",
       "}\n",
       "\n",
       "#sk-container-id-1 div.sk-label.fitted input.sk-toggleable__control:checked~label.sk-toggleable__label {\n",
       "  background-color: var(--sklearn-color-fitted-level-2);\n",
       "}\n",
       "\n",
       "/* Estimator-specific style */\n",
       "\n",
       "/* Colorize estimator box */\n",
       "#sk-container-id-1 div.sk-estimator input.sk-toggleable__control:checked~label.sk-toggleable__label {\n",
       "  /* unfitted */\n",
       "  background-color: var(--sklearn-color-unfitted-level-2);\n",
       "}\n",
       "\n",
       "#sk-container-id-1 div.sk-estimator.fitted input.sk-toggleable__control:checked~label.sk-toggleable__label {\n",
       "  /* fitted */\n",
       "  background-color: var(--sklearn-color-fitted-level-2);\n",
       "}\n",
       "\n",
       "#sk-container-id-1 div.sk-label label.sk-toggleable__label,\n",
       "#sk-container-id-1 div.sk-label label {\n",
       "  /* The background is the default theme color */\n",
       "  color: var(--sklearn-color-text-on-default-background);\n",
       "}\n",
       "\n",
       "/* On hover, darken the color of the background */\n",
       "#sk-container-id-1 div.sk-label:hover label.sk-toggleable__label {\n",
       "  color: var(--sklearn-color-text);\n",
       "  background-color: var(--sklearn-color-unfitted-level-2);\n",
       "}\n",
       "\n",
       "/* Label box, darken color on hover, fitted */\n",
       "#sk-container-id-1 div.sk-label.fitted:hover label.sk-toggleable__label.fitted {\n",
       "  color: var(--sklearn-color-text);\n",
       "  background-color: var(--sklearn-color-fitted-level-2);\n",
       "}\n",
       "\n",
       "/* Estimator label */\n",
       "\n",
       "#sk-container-id-1 div.sk-label label {\n",
       "  font-family: monospace;\n",
       "  font-weight: bold;\n",
       "  display: inline-block;\n",
       "  line-height: 1.2em;\n",
       "}\n",
       "\n",
       "#sk-container-id-1 div.sk-label-container {\n",
       "  text-align: center;\n",
       "}\n",
       "\n",
       "/* Estimator-specific */\n",
       "#sk-container-id-1 div.sk-estimator {\n",
       "  font-family: monospace;\n",
       "  border: 1px dotted var(--sklearn-color-border-box);\n",
       "  border-radius: 0.25em;\n",
       "  box-sizing: border-box;\n",
       "  margin-bottom: 0.5em;\n",
       "  /* unfitted */\n",
       "  background-color: var(--sklearn-color-unfitted-level-0);\n",
       "}\n",
       "\n",
       "#sk-container-id-1 div.sk-estimator.fitted {\n",
       "  /* fitted */\n",
       "  background-color: var(--sklearn-color-fitted-level-0);\n",
       "}\n",
       "\n",
       "/* on hover */\n",
       "#sk-container-id-1 div.sk-estimator:hover {\n",
       "  /* unfitted */\n",
       "  background-color: var(--sklearn-color-unfitted-level-2);\n",
       "}\n",
       "\n",
       "#sk-container-id-1 div.sk-estimator.fitted:hover {\n",
       "  /* fitted */\n",
       "  background-color: var(--sklearn-color-fitted-level-2);\n",
       "}\n",
       "\n",
       "/* Specification for estimator info (e.g. \"i\" and \"?\") */\n",
       "\n",
       "/* Common style for \"i\" and \"?\" */\n",
       "\n",
       ".sk-estimator-doc-link,\n",
       "a:link.sk-estimator-doc-link,\n",
       "a:visited.sk-estimator-doc-link {\n",
       "  float: right;\n",
       "  font-size: smaller;\n",
       "  line-height: 1em;\n",
       "  font-family: monospace;\n",
       "  background-color: var(--sklearn-color-background);\n",
       "  border-radius: 1em;\n",
       "  height: 1em;\n",
       "  width: 1em;\n",
       "  text-decoration: none !important;\n",
       "  margin-left: 1ex;\n",
       "  /* unfitted */\n",
       "  border: var(--sklearn-color-unfitted-level-1) 1pt solid;\n",
       "  color: var(--sklearn-color-unfitted-level-1);\n",
       "}\n",
       "\n",
       ".sk-estimator-doc-link.fitted,\n",
       "a:link.sk-estimator-doc-link.fitted,\n",
       "a:visited.sk-estimator-doc-link.fitted {\n",
       "  /* fitted */\n",
       "  border: var(--sklearn-color-fitted-level-1) 1pt solid;\n",
       "  color: var(--sklearn-color-fitted-level-1);\n",
       "}\n",
       "\n",
       "/* On hover */\n",
       "div.sk-estimator:hover .sk-estimator-doc-link:hover,\n",
       ".sk-estimator-doc-link:hover,\n",
       "div.sk-label-container:hover .sk-estimator-doc-link:hover,\n",
       ".sk-estimator-doc-link:hover {\n",
       "  /* unfitted */\n",
       "  background-color: var(--sklearn-color-unfitted-level-3);\n",
       "  color: var(--sklearn-color-background);\n",
       "  text-decoration: none;\n",
       "}\n",
       "\n",
       "div.sk-estimator.fitted:hover .sk-estimator-doc-link.fitted:hover,\n",
       ".sk-estimator-doc-link.fitted:hover,\n",
       "div.sk-label-container:hover .sk-estimator-doc-link.fitted:hover,\n",
       ".sk-estimator-doc-link.fitted:hover {\n",
       "  /* fitted */\n",
       "  background-color: var(--sklearn-color-fitted-level-3);\n",
       "  color: var(--sklearn-color-background);\n",
       "  text-decoration: none;\n",
       "}\n",
       "\n",
       "/* Span, style for the box shown on hovering the info icon */\n",
       ".sk-estimator-doc-link span {\n",
       "  display: none;\n",
       "  z-index: 9999;\n",
       "  position: relative;\n",
       "  font-weight: normal;\n",
       "  right: .2ex;\n",
       "  padding: .5ex;\n",
       "  margin: .5ex;\n",
       "  width: min-content;\n",
       "  min-width: 20ex;\n",
       "  max-width: 50ex;\n",
       "  color: var(--sklearn-color-text);\n",
       "  box-shadow: 2pt 2pt 4pt #999;\n",
       "  /* unfitted */\n",
       "  background: var(--sklearn-color-unfitted-level-0);\n",
       "  border: .5pt solid var(--sklearn-color-unfitted-level-3);\n",
       "}\n",
       "\n",
       ".sk-estimator-doc-link.fitted span {\n",
       "  /* fitted */\n",
       "  background: var(--sklearn-color-fitted-level-0);\n",
       "  border: var(--sklearn-color-fitted-level-3);\n",
       "}\n",
       "\n",
       ".sk-estimator-doc-link:hover span {\n",
       "  display: block;\n",
       "}\n",
       "\n",
       "/* \"?\"-specific style due to the `<a>` HTML tag */\n",
       "\n",
       "#sk-container-id-1 a.estimator_doc_link {\n",
       "  float: right;\n",
       "  font-size: 1rem;\n",
       "  line-height: 1em;\n",
       "  font-family: monospace;\n",
       "  background-color: var(--sklearn-color-background);\n",
       "  border-radius: 1rem;\n",
       "  height: 1rem;\n",
       "  width: 1rem;\n",
       "  text-decoration: none;\n",
       "  /* unfitted */\n",
       "  color: var(--sklearn-color-unfitted-level-1);\n",
       "  border: var(--sklearn-color-unfitted-level-1) 1pt solid;\n",
       "}\n",
       "\n",
       "#sk-container-id-1 a.estimator_doc_link.fitted {\n",
       "  /* fitted */\n",
       "  border: var(--sklearn-color-fitted-level-1) 1pt solid;\n",
       "  color: var(--sklearn-color-fitted-level-1);\n",
       "}\n",
       "\n",
       "/* On hover */\n",
       "#sk-container-id-1 a.estimator_doc_link:hover {\n",
       "  /* unfitted */\n",
       "  background-color: var(--sklearn-color-unfitted-level-3);\n",
       "  color: var(--sklearn-color-background);\n",
       "  text-decoration: none;\n",
       "}\n",
       "\n",
       "#sk-container-id-1 a.estimator_doc_link.fitted:hover {\n",
       "  /* fitted */\n",
       "  background-color: var(--sklearn-color-fitted-level-3);\n",
       "}\n",
       "</style><div id=\"sk-container-id-1\" class=\"sk-top-container\"><div class=\"sk-text-repr-fallback\"><pre>LinearRegression()</pre><b>In a Jupyter environment, please rerun this cell to show the HTML representation or trust the notebook. <br />On GitHub, the HTML representation is unable to render, please try loading this page with nbviewer.org.</b></div><div class=\"sk-container\" hidden><div class=\"sk-item\"><div class=\"sk-estimator fitted sk-toggleable\"><input class=\"sk-toggleable__control sk-hidden--visually\" id=\"sk-estimator-id-1\" type=\"checkbox\" checked><label for=\"sk-estimator-id-1\" class=\"sk-toggleable__label fitted sk-toggleable__label-arrow fitted\">&nbsp;&nbsp;LinearRegression<a class=\"sk-estimator-doc-link fitted\" rel=\"noreferrer\" target=\"_blank\" href=\"https://scikit-learn.org/1.5/modules/generated/sklearn.linear_model.LinearRegression.html\">?<span>Documentation for LinearRegression</span></a><span class=\"sk-estimator-doc-link fitted\">i<span>Fitted</span></span></label><div class=\"sk-toggleable__content fitted\"><pre>LinearRegression()</pre></div> </div></div></div></div>"
      ],
      "text/plain": [
       "LinearRegression()"
      ]
     },
     "execution_count": 45,
     "metadata": {},
     "output_type": "execute_result"
    }
   ],
   "source": [
    "reg.fit(X_train_squared, y_train) "
   ]
  },
  {
   "cell_type": "code",
   "execution_count": 50,
   "id": "606cc4fc",
   "metadata": {},
   "outputs": [
    {
     "data": {
      "text/plain": [
       "['ohe.joblib', 'linear_poly_2.joblib', 'scaler.joblib']"
      ]
     },
     "execution_count": 50,
     "metadata": {},
     "output_type": "execute_result"
    }
   ],
   "source": [
    "import joblib \n",
    "\n",
    "models_dir = os.path.join(project_dir, \"models\") \n",
    "\n",
    "with open(os.path.join(models_dir, \"linear_poly_2.joblib\"), 'wb') as j: \n",
    "    joblib.dump(reg, j) \n",
    "\n",
    "os.listdir(models_dir)"
   ]
  },
  {
   "cell_type": "code",
   "execution_count": 51,
   "id": "cfba398f",
   "metadata": {},
   "outputs": [],
   "source": [
    "y_train_preds = reg.predict(X_train_squared) \n",
    "y_val_preds = reg.predict(X_val_squared)"
   ]
  },
  {
   "cell_type": "code",
   "execution_count": 52,
   "id": "7389d221",
   "metadata": {},
   "outputs": [],
   "source": [
    "from alancarrml.models.performance import score_regressors "
   ]
  },
  {
   "cell_type": "markdown",
   "id": "81a405e7",
   "metadata": {},
   "source": [
    "### [4.7] Display the RMSE and MAE scores of this model on the training set"
   ]
  },
  {
   "cell_type": "code",
   "execution_count": null,
   "id": "f05380aa",
   "metadata": {},
   "outputs": [
    {
     "name": "stdout",
     "output_type": "stream",
     "text": [
      "                Scores for y_train\n",
      "------------------------------------------------------------\n",
      "        Root Mean Squared Error    |   3059.2819\n",
      "        Mean Squared Error         |   18718412.0500\n",
      "        Mean Absolute Error        |   2056.4413\n",
      "        R2 Score                   |   0.8721\n",
      "------------------------------------------------------------\n",
      "\n"
     ]
    }
   ],
   "source": [
    "train_scores = score_regressors(y_train_preds, y_train, \"train\") "
   ]
  },
  {
   "cell_type": "markdown",
   "id": "02cf424f",
   "metadata": {},
   "source": [
    "### [4.8] Display the RMSE and MAE scores of this model on the validation set "
   ]
  },
  {
   "cell_type": "code",
   "execution_count": null,
   "id": "bd28ead9",
   "metadata": {},
   "outputs": [
    {
     "name": "stdout",
     "output_type": "stream",
     "text": [
      "                Scores for y_val\n",
      "------------------------------------------------------------\n",
      "        Root Mean Squared Error    |   3090.1659\n",
      "        Mean Squared Error         |   19098250.5787\n",
      "        Mean Absolute Error        |   2081.3982\n",
      "        R2 Score                   |   0.8712\n",
      "------------------------------------------------------------\n",
      "\n"
     ]
    }
   ],
   "source": [
    "val_scores = score_regressors(y_val_preds, y_val, \"val\") "
   ]
  },
  {
   "cell_type": "markdown",
   "id": "67f9116f",
   "metadata": {},
   "source": [
    "### [4.9] Display the RMSE and MAE scores of this model on the testing set"
   ]
  },
  {
   "cell_type": "code",
   "execution_count": 55,
   "id": "301a9235",
   "metadata": {},
   "outputs": [
    {
     "name": "stdout",
     "output_type": "stream",
     "text": [
      "                Scores for test\n",
      "------------------------------------------------------------\n",
      "        Root Mean Squared Error    |   3035.1790\n",
      "        Mean Squared Error         |   18424623.5447\n",
      "        Mean Absolute Error        |   2044.1240\n",
      "        R2 Score                   |   0.8758\n",
      "------------------------------------------------------------\n",
      "\n"
     ]
    }
   ],
   "source": [
    "test_preds = reg.predict(X_test_squared) \n",
    "test_scores = score_regressors(test_preds, y_test, \"test\") "
   ]
  },
  {
   "cell_type": "code",
   "execution_count": null,
   "id": "7987771b",
   "metadata": {},
   "outputs": [],
   "source": []
  }
 ],
 "metadata": {
  "kernelspec": {
   "display_name": "Python 3",
   "language": "python",
   "name": "python3"
  },
  "language_info": {
   "codemirror_mode": {
    "name": "ipython",
    "version": 3
   },
   "file_extension": ".py",
   "mimetype": "text/x-python",
   "name": "python",
   "nbconvert_exporter": "python",
   "pygments_lexer": "ipython3",
   "version": "3.12.3"
  }
 },
 "nbformat": 4,
 "nbformat_minor": 5
}
